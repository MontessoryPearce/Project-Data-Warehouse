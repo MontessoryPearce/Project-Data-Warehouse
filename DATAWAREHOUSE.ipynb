{
  "nbformat": 4,
  "nbformat_minor": 0,
  "metadata": {
    "colab": {
      "name": "DATAWAREHOUSE.ipynb",
      "provenance": [],
      "collapsed_sections": []
    },
    "kernelspec": {
      "name": "python3",
      "display_name": "Python 3"
    }
  },
  "cells": [
    {
      "cell_type": "code",
      "metadata": {
        "id": "DWckT8d0HFtB",
        "colab_type": "code",
        "colab": {}
      },
      "source": [
        "import pandas as pd\n",
        "import sqlite3\n",
        "import math\n",
        "import datetime \n",
        "import numpy as np\n",
        "import matplotlib.pyplot as pl"
      ],
      "execution_count": 1,
      "outputs": []
    },
    {
      "cell_type": "code",
      "metadata": {
        "id": "ghnbDTibHQZj",
        "colab_type": "code",
        "colab": {
          "base_uri": "https://localhost:8080/",
          "height": 453
        },
        "outputId": "b22315b9-9ae2-406b-dd7f-dc2956f00724"
      },
      "source": [
        "df = pd.read_csv(\"Portal Data  Universitas Syiah Kuala.csv\")\n",
        "df"
      ],
      "execution_count": 12,
      "outputs": [
        {
          "output_type": "execute_result",
          "data": {
            "text/html": [
              "<div>\n",
              "<style scoped>\n",
              "    .dataframe tbody tr th:only-of-type {\n",
              "        vertical-align: middle;\n",
              "    }\n",
              "\n",
              "    .dataframe tbody tr th {\n",
              "        vertical-align: top;\n",
              "    }\n",
              "\n",
              "    .dataframe thead th {\n",
              "        text-align: right;\n",
              "    }\n",
              "</style>\n",
              "<table border=\"1\" class=\"dataframe\">\n",
              "  <thead>\n",
              "    <tr style=\"text-align: right;\">\n",
              "      <th></th>\n",
              "      <th>No</th>\n",
              "      <th>Prodi</th>\n",
              "      <th>Pilihan 1</th>\n",
              "      <th>Pilihan 2</th>\n",
              "      <th>Pilihan 3</th>\n",
              "      <th>Jumlah</th>\n",
              "      <th>Rata-rata Nilai Lulusan</th>\n",
              "    </tr>\n",
              "  </thead>\n",
              "  <tbody>\n",
              "    <tr>\n",
              "      <th>0</th>\n",
              "      <td>1.0</td>\n",
              "      <td>FARMASI</td>\n",
              "      <td>786</td>\n",
              "      <td>450</td>\n",
              "      <td>0</td>\n",
              "      <td>1236</td>\n",
              "      <td>592.22</td>\n",
              "    </tr>\n",
              "    <tr>\n",
              "      <th>1</th>\n",
              "      <td>2.0</td>\n",
              "      <td>PENDIDIKAN DOKTER</td>\n",
              "      <td>826</td>\n",
              "      <td>290</td>\n",
              "      <td>0</td>\n",
              "      <td>1116</td>\n",
              "      <td>662.84</td>\n",
              "    </tr>\n",
              "    <tr>\n",
              "      <th>2</th>\n",
              "      <td>3.0</td>\n",
              "      <td>ILMU HUKUM</td>\n",
              "      <td>729</td>\n",
              "      <td>385</td>\n",
              "      <td>0</td>\n",
              "      <td>1114</td>\n",
              "      <td>533.27</td>\n",
              "    </tr>\n",
              "    <tr>\n",
              "      <th>3</th>\n",
              "      <td>4.0</td>\n",
              "      <td>MANAJEMEN</td>\n",
              "      <td>561</td>\n",
              "      <td>377</td>\n",
              "      <td>0</td>\n",
              "      <td>938</td>\n",
              "      <td>549.42</td>\n",
              "    </tr>\n",
              "    <tr>\n",
              "      <th>4</th>\n",
              "      <td>5.0</td>\n",
              "      <td>INFORMATIKA</td>\n",
              "      <td>563</td>\n",
              "      <td>358</td>\n",
              "      <td>0</td>\n",
              "      <td>921</td>\n",
              "      <td>578.90</td>\n",
              "    </tr>\n",
              "    <tr>\n",
              "      <th>...</th>\n",
              "      <td>...</td>\n",
              "      <td>...</td>\n",
              "      <td>...</td>\n",
              "      <td>...</td>\n",
              "      <td>...</td>\n",
              "      <td>...</td>\n",
              "      <td>...</td>\n",
              "    </tr>\n",
              "    <tr>\n",
              "      <th>59</th>\n",
              "      <td>60.0</td>\n",
              "      <td>Agroteknologi (PSDKU GAYO LUES)</td>\n",
              "      <td>17</td>\n",
              "      <td>25</td>\n",
              "      <td>0</td>\n",
              "      <td>42</td>\n",
              "      <td>452.90</td>\n",
              "    </tr>\n",
              "    <tr>\n",
              "      <th>60</th>\n",
              "      <td>61.0</td>\n",
              "      <td>PENDIDIKAN SENI DRAMA TARI DAN MUSIK</td>\n",
              "      <td>26</td>\n",
              "      <td>14</td>\n",
              "      <td>0</td>\n",
              "      <td>40</td>\n",
              "      <td>448.62</td>\n",
              "    </tr>\n",
              "    <tr>\n",
              "      <th>61</th>\n",
              "      <td>62.0</td>\n",
              "      <td>Kehutanan (PSDKU Gayo Lues)</td>\n",
              "      <td>23</td>\n",
              "      <td>15</td>\n",
              "      <td>0</td>\n",
              "      <td>38</td>\n",
              "      <td>452.31</td>\n",
              "    </tr>\n",
              "    <tr>\n",
              "      <th>62</th>\n",
              "      <td>63.0</td>\n",
              "      <td>Pendidikan Biologi  (PDSKU Gayo Lues)</td>\n",
              "      <td>13</td>\n",
              "      <td>22</td>\n",
              "      <td>0</td>\n",
              "      <td>35</td>\n",
              "      <td>459.33</td>\n",
              "    </tr>\n",
              "    <tr>\n",
              "      <th>63</th>\n",
              "      <td>NaN</td>\n",
              "      <td>TOTAL</td>\n",
              "      <td>13233</td>\n",
              "      <td>12003</td>\n",
              "      <td>0</td>\n",
              "      <td>25236</td>\n",
              "      <td>NaN</td>\n",
              "    </tr>\n",
              "  </tbody>\n",
              "</table>\n",
              "<p>64 rows × 7 columns</p>\n",
              "</div>"
            ],
            "text/plain": [
              "      No  ... Rata-rata Nilai Lulusan\n",
              "0    1.0  ...                  592.22\n",
              "1    2.0  ...                  662.84\n",
              "2    3.0  ...                  533.27\n",
              "3    4.0  ...                  549.42\n",
              "4    5.0  ...                  578.90\n",
              "..   ...  ...                     ...\n",
              "59  60.0  ...                  452.90\n",
              "60  61.0  ...                  448.62\n",
              "61  62.0  ...                  452.31\n",
              "62  63.0  ...                  459.33\n",
              "63   NaN  ...                     NaN\n",
              "\n",
              "[64 rows x 7 columns]"
            ]
          },
          "metadata": {
            "tags": []
          },
          "execution_count": 12
        }
      ]
    },
    {
      "cell_type": "code",
      "metadata": {
        "id": "AxHoIxXDN0Yk",
        "colab_type": "code",
        "colab": {}
      },
      "source": [
        "df.sort_values(by=['Rata-rata Nilai Lulusan'], inplace=True, ascending=False)"
      ],
      "execution_count": 18,
      "outputs": []
    },
    {
      "cell_type": "code",
      "metadata": {
        "id": "Ab4ZpKkbOig7",
        "colab_type": "code",
        "colab": {
          "base_uri": "https://localhost:8080/",
          "height": 453
        },
        "outputId": "b29ae42e-dca6-4398-ab0d-ecd57e69dd46"
      },
      "source": [
        "df"
      ],
      "execution_count": 19,
      "outputs": [
        {
          "output_type": "execute_result",
          "data": {
            "text/html": [
              "<div>\n",
              "<style scoped>\n",
              "    .dataframe tbody tr th:only-of-type {\n",
              "        vertical-align: middle;\n",
              "    }\n",
              "\n",
              "    .dataframe tbody tr th {\n",
              "        vertical-align: top;\n",
              "    }\n",
              "\n",
              "    .dataframe thead th {\n",
              "        text-align: right;\n",
              "    }\n",
              "</style>\n",
              "<table border=\"1\" class=\"dataframe\">\n",
              "  <thead>\n",
              "    <tr style=\"text-align: right;\">\n",
              "      <th></th>\n",
              "      <th>No</th>\n",
              "      <th>Prodi</th>\n",
              "      <th>Pilihan 1</th>\n",
              "      <th>Pilihan 2</th>\n",
              "      <th>Pilihan 3</th>\n",
              "      <th>Jumlah</th>\n",
              "      <th>Rata-rata Nilai Lulusan</th>\n",
              "    </tr>\n",
              "  </thead>\n",
              "  <tbody>\n",
              "    <tr>\n",
              "      <th>1</th>\n",
              "      <td>2.0</td>\n",
              "      <td>PENDIDIKAN DOKTER</td>\n",
              "      <td>826</td>\n",
              "      <td>290</td>\n",
              "      <td>0</td>\n",
              "      <td>1116</td>\n",
              "      <td>662.84</td>\n",
              "    </tr>\n",
              "    <tr>\n",
              "      <th>5</th>\n",
              "      <td>6.0</td>\n",
              "      <td>PENDIDIKAN DOKTER GIGI</td>\n",
              "      <td>503</td>\n",
              "      <td>359</td>\n",
              "      <td>0</td>\n",
              "      <td>862</td>\n",
              "      <td>625.39</td>\n",
              "    </tr>\n",
              "    <tr>\n",
              "      <th>13</th>\n",
              "      <td>14.0</td>\n",
              "      <td>STATISTIKA</td>\n",
              "      <td>258</td>\n",
              "      <td>308</td>\n",
              "      <td>0</td>\n",
              "      <td>566</td>\n",
              "      <td>592.64</td>\n",
              "    </tr>\n",
              "    <tr>\n",
              "      <th>0</th>\n",
              "      <td>1.0</td>\n",
              "      <td>FARMASI</td>\n",
              "      <td>786</td>\n",
              "      <td>450</td>\n",
              "      <td>0</td>\n",
              "      <td>1236</td>\n",
              "      <td>592.22</td>\n",
              "    </tr>\n",
              "    <tr>\n",
              "      <th>4</th>\n",
              "      <td>5.0</td>\n",
              "      <td>INFORMATIKA</td>\n",
              "      <td>563</td>\n",
              "      <td>358</td>\n",
              "      <td>0</td>\n",
              "      <td>921</td>\n",
              "      <td>578.90</td>\n",
              "    </tr>\n",
              "    <tr>\n",
              "      <th>...</th>\n",
              "      <td>...</td>\n",
              "      <td>...</td>\n",
              "      <td>...</td>\n",
              "      <td>...</td>\n",
              "      <td>...</td>\n",
              "      <td>...</td>\n",
              "      <td>...</td>\n",
              "    </tr>\n",
              "    <tr>\n",
              "      <th>61</th>\n",
              "      <td>62.0</td>\n",
              "      <td>Kehutanan (PSDKU Gayo Lues)</td>\n",
              "      <td>23</td>\n",
              "      <td>15</td>\n",
              "      <td>0</td>\n",
              "      <td>38</td>\n",
              "      <td>452.31</td>\n",
              "    </tr>\n",
              "    <tr>\n",
              "      <th>58</th>\n",
              "      <td>59.0</td>\n",
              "      <td>Manajemen (PSDKU GAYO LUES)</td>\n",
              "      <td>29</td>\n",
              "      <td>25</td>\n",
              "      <td>0</td>\n",
              "      <td>54</td>\n",
              "      <td>451.21</td>\n",
              "    </tr>\n",
              "    <tr>\n",
              "      <th>60</th>\n",
              "      <td>61.0</td>\n",
              "      <td>PENDIDIKAN SENI DRAMA TARI DAN MUSIK</td>\n",
              "      <td>26</td>\n",
              "      <td>14</td>\n",
              "      <td>0</td>\n",
              "      <td>40</td>\n",
              "      <td>448.62</td>\n",
              "    </tr>\n",
              "    <tr>\n",
              "      <th>43</th>\n",
              "      <td>44.0</td>\n",
              "      <td>PENDIDIKAN GEOGRAFI</td>\n",
              "      <td>129</td>\n",
              "      <td>123</td>\n",
              "      <td>0</td>\n",
              "      <td>252</td>\n",
              "      <td>NaN</td>\n",
              "    </tr>\n",
              "    <tr>\n",
              "      <th>63</th>\n",
              "      <td>NaN</td>\n",
              "      <td>TOTAL</td>\n",
              "      <td>13233</td>\n",
              "      <td>12003</td>\n",
              "      <td>0</td>\n",
              "      <td>25236</td>\n",
              "      <td>NaN</td>\n",
              "    </tr>\n",
              "  </tbody>\n",
              "</table>\n",
              "<p>64 rows × 7 columns</p>\n",
              "</div>"
            ],
            "text/plain": [
              "      No                                 Prodi  ...  Jumlah  Rata-rata Nilai Lulusan\n",
              "1    2.0                     PENDIDIKAN DOKTER  ...    1116                   662.84\n",
              "5    6.0                PENDIDIKAN DOKTER GIGI  ...     862                   625.39\n",
              "13  14.0                            STATISTIKA  ...     566                   592.64\n",
              "0    1.0                               FARMASI  ...    1236                   592.22\n",
              "4    5.0                           INFORMATIKA  ...     921                   578.90\n",
              "..   ...                                   ...  ...     ...                      ...\n",
              "61  62.0           Kehutanan (PSDKU Gayo Lues)  ...      38                   452.31\n",
              "58  59.0           Manajemen (PSDKU GAYO LUES)  ...      54                   451.21\n",
              "60  61.0  PENDIDIKAN SENI DRAMA TARI DAN MUSIK  ...      40                   448.62\n",
              "43  44.0                   PENDIDIKAN GEOGRAFI  ...     252                      NaN\n",
              "63   NaN                                 TOTAL  ...   25236                      NaN\n",
              "\n",
              "[64 rows x 7 columns]"
            ]
          },
          "metadata": {
            "tags": []
          },
          "execution_count": 19
        }
      ]
    },
    {
      "cell_type": "code",
      "metadata": {
        "id": "Nx0HuCr4O-OK",
        "colab_type": "code",
        "colab": {
          "base_uri": "https://localhost:8080/",
          "height": 204
        },
        "outputId": "9b517be7-317a-4eaf-87dd-c603cdcf6271"
      },
      "source": [
        "x=df.head()\n",
        "x"
      ],
      "execution_count": 35,
      "outputs": [
        {
          "output_type": "execute_result",
          "data": {
            "text/html": [
              "<div>\n",
              "<style scoped>\n",
              "    .dataframe tbody tr th:only-of-type {\n",
              "        vertical-align: middle;\n",
              "    }\n",
              "\n",
              "    .dataframe tbody tr th {\n",
              "        vertical-align: top;\n",
              "    }\n",
              "\n",
              "    .dataframe thead th {\n",
              "        text-align: right;\n",
              "    }\n",
              "</style>\n",
              "<table border=\"1\" class=\"dataframe\">\n",
              "  <thead>\n",
              "    <tr style=\"text-align: right;\">\n",
              "      <th></th>\n",
              "      <th>No</th>\n",
              "      <th>Prodi</th>\n",
              "      <th>Pilihan 1</th>\n",
              "      <th>Pilihan 2</th>\n",
              "      <th>Pilihan 3</th>\n",
              "      <th>Jumlah</th>\n",
              "      <th>Rata-rata Nilai Lulusan</th>\n",
              "    </tr>\n",
              "  </thead>\n",
              "  <tbody>\n",
              "    <tr>\n",
              "      <th>1</th>\n",
              "      <td>2.0</td>\n",
              "      <td>PENDIDIKAN DOKTER</td>\n",
              "      <td>826</td>\n",
              "      <td>290</td>\n",
              "      <td>0</td>\n",
              "      <td>1116</td>\n",
              "      <td>662.84</td>\n",
              "    </tr>\n",
              "    <tr>\n",
              "      <th>5</th>\n",
              "      <td>6.0</td>\n",
              "      <td>PENDIDIKAN DOKTER GIGI</td>\n",
              "      <td>503</td>\n",
              "      <td>359</td>\n",
              "      <td>0</td>\n",
              "      <td>862</td>\n",
              "      <td>625.39</td>\n",
              "    </tr>\n",
              "    <tr>\n",
              "      <th>13</th>\n",
              "      <td>14.0</td>\n",
              "      <td>STATISTIKA</td>\n",
              "      <td>258</td>\n",
              "      <td>308</td>\n",
              "      <td>0</td>\n",
              "      <td>566</td>\n",
              "      <td>592.64</td>\n",
              "    </tr>\n",
              "    <tr>\n",
              "      <th>0</th>\n",
              "      <td>1.0</td>\n",
              "      <td>FARMASI</td>\n",
              "      <td>786</td>\n",
              "      <td>450</td>\n",
              "      <td>0</td>\n",
              "      <td>1236</td>\n",
              "      <td>592.22</td>\n",
              "    </tr>\n",
              "    <tr>\n",
              "      <th>4</th>\n",
              "      <td>5.0</td>\n",
              "      <td>INFORMATIKA</td>\n",
              "      <td>563</td>\n",
              "      <td>358</td>\n",
              "      <td>0</td>\n",
              "      <td>921</td>\n",
              "      <td>578.90</td>\n",
              "    </tr>\n",
              "  </tbody>\n",
              "</table>\n",
              "</div>"
            ],
            "text/plain": [
              "      No                   Prodi  ...  Jumlah  Rata-rata Nilai Lulusan\n",
              "1    2.0       PENDIDIKAN DOKTER  ...    1116                   662.84\n",
              "5    6.0  PENDIDIKAN DOKTER GIGI  ...     862                   625.39\n",
              "13  14.0              STATISTIKA  ...     566                   592.64\n",
              "0    1.0                 FARMASI  ...    1236                   592.22\n",
              "4    5.0             INFORMATIKA  ...     921                   578.90\n",
              "\n",
              "[5 rows x 7 columns]"
            ]
          },
          "metadata": {
            "tags": []
          },
          "execution_count": 35
        }
      ]
    },
    {
      "cell_type": "code",
      "metadata": {
        "id": "wO-mJ7KwRD_N",
        "colab_type": "code",
        "colab": {
          "base_uri": "https://localhost:8080/",
          "height": 282
        },
        "outputId": "7f4a587b-eab8-48a3-e938-9e099215b506"
      },
      "source": [
        "x.plot()"
      ],
      "execution_count": 34,
      "outputs": [
        {
          "output_type": "execute_result",
          "data": {
            "text/plain": [
              "<matplotlib.axes._subplots.AxesSubplot at 0x7f235449dc88>"
            ]
          },
          "metadata": {
            "tags": []
          },
          "execution_count": 34
        },
        {
          "output_type": "display_data",
          "data": {
            "image/png": "[encoded data removed]",
            "text/plain": [
              "<Figure size 432x288 with 1 Axes>"
            ]
          },
          "metadata": {
            "tags": [],
            "needs_background": "light"
          }
        }
      ]
    },
    {
      "cell_type": "code",
      "metadata": {
        "id": "qjlnF82eTdCD",
        "colab_type": "code",
        "colab": {}
      },
      "source": [
        "df.sort_values(by=['Pilihan 1'], inplace=True, ascending=False)"
      ],
      "execution_count": 37,
      "outputs": []
    },
    {
      "cell_type": "code",
      "metadata": {
        "id": "4JSgwHgaTc8R",
        "colab_type": "code",
        "colab": {
          "base_uri": "https://localhost:8080/",
          "height": 204
        },
        "outputId": "f80246fe-ba71-4720-8462-ad52fd549c26"
      },
      "source": [
        "pilihan1=df.head()\n",
        "pilihan1"
      ],
      "execution_count": 40,
      "outputs": [
        {
          "output_type": "execute_result",
          "data": {
            "text/html": [
              "<div>\n",
              "<style scoped>\n",
              "    .dataframe tbody tr th:only-of-type {\n",
              "        vertical-align: middle;\n",
              "    }\n",
              "\n",
              "    .dataframe tbody tr th {\n",
              "        vertical-align: top;\n",
              "    }\n",
              "\n",
              "    .dataframe thead th {\n",
              "        text-align: right;\n",
              "    }\n",
              "</style>\n",
              "<table border=\"1\" class=\"dataframe\">\n",
              "  <thead>\n",
              "    <tr style=\"text-align: right;\">\n",
              "      <th></th>\n",
              "      <th>No</th>\n",
              "      <th>Prodi</th>\n",
              "      <th>Pilihan 1</th>\n",
              "      <th>Pilihan 2</th>\n",
              "      <th>Pilihan 3</th>\n",
              "      <th>Jumlah</th>\n",
              "      <th>Rata-rata Nilai Lulusan</th>\n",
              "    </tr>\n",
              "  </thead>\n",
              "  <tbody>\n",
              "    <tr>\n",
              "      <th>63</th>\n",
              "      <td>NaN</td>\n",
              "      <td>TOTAL</td>\n",
              "      <td>13233</td>\n",
              "      <td>12003</td>\n",
              "      <td>0</td>\n",
              "      <td>25236</td>\n",
              "      <td>NaN</td>\n",
              "    </tr>\n",
              "    <tr>\n",
              "      <th>1</th>\n",
              "      <td>2.0</td>\n",
              "      <td>PENDIDIKAN DOKTER</td>\n",
              "      <td>826</td>\n",
              "      <td>290</td>\n",
              "      <td>0</td>\n",
              "      <td>1116</td>\n",
              "      <td>662.84</td>\n",
              "    </tr>\n",
              "    <tr>\n",
              "      <th>0</th>\n",
              "      <td>1.0</td>\n",
              "      <td>FARMASI</td>\n",
              "      <td>786</td>\n",
              "      <td>450</td>\n",
              "      <td>0</td>\n",
              "      <td>1236</td>\n",
              "      <td>592.22</td>\n",
              "    </tr>\n",
              "    <tr>\n",
              "      <th>2</th>\n",
              "      <td>3.0</td>\n",
              "      <td>ILMU HUKUM</td>\n",
              "      <td>729</td>\n",
              "      <td>385</td>\n",
              "      <td>0</td>\n",
              "      <td>1114</td>\n",
              "      <td>533.27</td>\n",
              "    </tr>\n",
              "    <tr>\n",
              "      <th>4</th>\n",
              "      <td>5.0</td>\n",
              "      <td>INFORMATIKA</td>\n",
              "      <td>563</td>\n",
              "      <td>358</td>\n",
              "      <td>0</td>\n",
              "      <td>921</td>\n",
              "      <td>578.90</td>\n",
              "    </tr>\n",
              "  </tbody>\n",
              "</table>\n",
              "</div>"
            ],
            "text/plain": [
              "     No              Prodi  ...  Jumlah  Rata-rata Nilai Lulusan\n",
              "63  NaN              TOTAL  ...   25236                      NaN\n",
              "1   2.0  PENDIDIKAN DOKTER  ...    1116                   662.84\n",
              "0   1.0            FARMASI  ...    1236                   592.22\n",
              "2   3.0         ILMU HUKUM  ...    1114                   533.27\n",
              "4   5.0        INFORMATIKA  ...     921                   578.90\n",
              "\n",
              "[5 rows x 7 columns]"
            ]
          },
          "metadata": {
            "tags": []
          },
          "execution_count": 40
        }
      ]
    },
    {
      "cell_type": "code",
      "metadata": {
        "id": "K3GFZREqUJaD",
        "colab_type": "code",
        "colab": {
          "base_uri": "https://localhost:8080/",
          "height": 282
        },
        "outputId": "3f91b596-4dcc-4f2e-b0c8-ac66ded78f2c"
      },
      "source": [
        "pilihan1.plot()"
      ],
      "execution_count": 41,
      "outputs": [
        {
          "output_type": "execute_result",
          "data": {
            "text/plain": [
              "<matplotlib.axes._subplots.AxesSubplot at 0x7f2353ed1cc0>"
            ]
          },
          "metadata": {
            "tags": []
          },
          "execution_count": 41
        },
        {
          "output_type": "display_data",
          "data": {
            "image/png": "[encoded data removed]",
            "text/plain": [
              "<Figure size 432x288 with 1 Axes>"
            ]
          },
          "metadata": {
            "tags": [],
            "needs_background": "light"
          }
        }
      ]
    }
  ]
}